{
 "cells": [
  {
   "cell_type": "code",
   "execution_count": 1,
   "metadata": {},
   "outputs": [],
   "source": [
    "# import libraries\n",
    "import os\n",
    "from dotenv import load_dotenv\n",
    "from base64 import b64encode\n",
    "import requests\n",
    "import pandas as pd"
   ]
  },
  {
   "cell_type": "code",
   "execution_count": 2,
   "metadata": {},
   "outputs": [],
   "source": [
    "# get client_id and client_secret from environment variables\n",
    "load_dotenv()\n",
    "client_id = os.environ.get(\"CLIENT_ID\")\n",
    "client_secret = os.environ.get(\"CLIENT_SECRET\")"
   ]
  },
  {
   "cell_type": "code",
   "execution_count": 3,
   "metadata": {},
   "outputs": [],
   "source": [
    "## get authorization token\n",
    "## docs - https://developer.spotify.com/documentation/web-api/tutorials/client-credentials-flow\n",
    "# prepare authorization string\n",
    "auth_string = f\"{client_id}:{client_secret}\"\n",
    "# encode to bytes\n",
    "auth_bytes = auth_string.encode(\"utf-8\")\n",
    "# encode to base64\n",
    "auth_base64 = b64encode(auth_bytes).decode()\n",
    "\n",
    "# api url\n",
    "url = \"https://accounts.spotify.com/api/token\"\n",
    "# authorization options\n",
    "headers = {\n",
    "    \"Authorization\": f\"Basic {auth_base64}\",\n",
    "    \"Content-Type\": \"application/x-www-form-urlencoded\"\n",
    "}\n",
    "form = {\"grant_type\": \"client_credentials\"}\n",
    "\n",
    "# post authorization request\n",
    "response = requests.post(url=url, headers=headers, data=form)\n",
    "# extract token from response\n",
    "token = response.json()[\"access_token\"]"
   ]
  },
  {
   "cell_type": "code",
   "execution_count": 4,
   "metadata": {},
   "outputs": [],
   "source": [
    "## get playlist data\n",
    "## docs - https://developer.spotify.com/documentation/web-api/reference/get-playlist\n",
    "# playlist id\n",
    "playlist_id = \"37i9dQZEVXbMnz8KIWsvf9\"\n",
    "\n",
    "# api url\n",
    "url = f\"https://api.spotify.com/v1/playlists/{playlist_id}\"\n",
    "# authorization options\n",
    "headers = {\"Authorization\": f\"Bearer {token}\"}\n",
    "\n",
    "# get response\n",
    "response = requests.get(url=url, headers=headers)\n",
    "# convert to dictionary\n",
    "result = response.json()"
   ]
  },
  {
   "cell_type": "code",
   "execution_count": 5,
   "metadata": {},
   "outputs": [
    {
     "name": "stdout",
     "output_type": "stream",
     "text": [
      "3jeQDa9OFZ6GndLindHx3k\n",
      "Take Two\n",
      "2023-06-09\n",
      "1\n"
     ]
    }
   ],
   "source": [
    "# inspect album data\n",
    "print(result[\"tracks\"][\"items\"][0][\"track\"][\"album\"][\"id\"])\n",
    "print(result[\"tracks\"][\"items\"][0][\"track\"][\"album\"][\"name\"])\n",
    "print(result[\"tracks\"][\"items\"][0][\"track\"][\"album\"][\"release_date\"])\n",
    "print(result[\"tracks\"][\"items\"][0][\"track\"][\"album\"][\"total_tracks\"])"
   ]
  },
  {
   "cell_type": "code",
   "execution_count": 6,
   "metadata": {},
   "outputs": [
    {
     "name": "stdout",
     "output_type": "stream",
     "text": [
      "5IAESfJjmOYu7cHyX557kz\n",
      "Take Two\n",
      "229953\n",
      "93\n",
      "3jeQDa9OFZ6GndLindHx3k\n",
      "3Nrfpe0tUJi4K4DXYWgMUX\n"
     ]
    }
   ],
   "source": [
    "# inspect track data\n",
    "print(result[\"tracks\"][\"items\"][0][\"track\"][\"id\"])\n",
    "print(result[\"tracks\"][\"items\"][0][\"track\"][\"name\"])\n",
    "print(result[\"tracks\"][\"items\"][0][\"track\"][\"duration_ms\"])\n",
    "print(result[\"tracks\"][\"items\"][0][\"track\"][\"popularity\"])\n",
    "print(result[\"tracks\"][\"items\"][0][\"track\"][\"album\"][\"id\"])\n",
    "print(result[\"tracks\"][\"items\"][0][\"track\"][\"artists\"][0][\"id\"])"
   ]
  },
  {
   "cell_type": "code",
   "execution_count": 7,
   "metadata": {},
   "outputs": [
    {
     "name": "stdout",
     "output_type": "stream",
     "text": [
      "3Nrfpe0tUJi4K4DXYWgMUX\n",
      "BTS\n"
     ]
    }
   ],
   "source": [
    "# inspect artist data\n",
    "print(result[\"tracks\"][\"items\"][0][\"track\"][\"artists\"][0][\"id\"])\n",
    "print(result[\"tracks\"][\"items\"][0][\"track\"][\"artists\"][0][\"name\"])"
   ]
  },
  {
   "cell_type": "code",
   "execution_count": 8,
   "metadata": {},
   "outputs": [],
   "source": [
    "## extract album data\n",
    "# empty album list\n",
    "album_list = []\n",
    "\n",
    "# for loop to extract data\n",
    "for album in result[\"tracks\"][\"items\"]:\n",
    "    # extract album data\n",
    "    album_dict = {\n",
    "        \"id\": album[\"track\"][\"album\"][\"id\"],\n",
    "        \"name\": album[\"track\"][\"album\"][\"name\"],\n",
    "        \"release_date\": album[\"track\"][\"album\"][\"release_date\"],\n",
    "        \"total_tracks\": album[\"track\"][\"album\"][\"total_tracks\"]\n",
    "    }\n",
    "    # if extracted data not in list then append to list\n",
    "    if album_dict not in album_list:\n",
    "        album_list.append(album_dict)"
   ]
  },
  {
   "cell_type": "code",
   "execution_count": 9,
   "metadata": {},
   "outputs": [],
   "source": [
    "## extract artist data\n",
    "# empty artist list\n",
    "artist_list = []\n",
    "\n",
    "# for loop to extract data\n",
    "for artists in result[\"tracks\"][\"items\"]:\n",
    "    # extract artist data\n",
    "    for artist in artists[\"track\"][\"artists\"]:\n",
    "        artist_dict = {\n",
    "            \"artist_id\": artist[\"id\"],\n",
    "            \"artist_name\": artist[\"name\"]\n",
    "        }\n",
    "        # if extracted data not in list then append to list\n",
    "        if artist_dict not in artist_list:\n",
    "            artist_list.append(artist_dict)"
   ]
  },
  {
   "cell_type": "code",
   "execution_count": 10,
   "metadata": {},
   "outputs": [],
   "source": [
    "# define convert milliseconds to minutes function\n",
    "def milli_to_min(milliseconds):\n",
    "    return round(milliseconds / 60000, 2)\n",
    "\n",
    "## extract track data\n",
    "# empty track list\n",
    "track_list = []\n",
    "\n",
    "# for loop to extract data\n",
    "for track in result[\"tracks\"][\"items\"]:\n",
    "    # extract track data\n",
    "    track_dict = {\n",
    "        \"track_id\": track[\"track\"][\"id\"],\n",
    "        \"track_name\": track[\"track\"][\"name\"],\n",
    "        \"duration\": milli_to_min(track[\"track\"][\"duration_ms\"]),\n",
    "        \"popularity\": track[\"track\"][\"popularity\"],\n",
    "        \"album_id\": track[\"track\"][\"album\"][\"id\"],\n",
    "        \"artist_id\": track[\"track\"][\"artists\"][0][\"id\"]\n",
    "    }\n",
    "    # if extracted data not in list then append to list\n",
    "    if track_dict not in track_list:\n",
    "        track_list.append(track_dict)"
   ]
  },
  {
   "cell_type": "code",
   "execution_count": 11,
   "metadata": {},
   "outputs": [
    {
     "data": {
      "text/html": [
       "<div>\n",
       "<style scoped>\n",
       "    .dataframe tbody tr th:only-of-type {\n",
       "        vertical-align: middle;\n",
       "    }\n",
       "\n",
       "    .dataframe tbody tr th {\n",
       "        vertical-align: top;\n",
       "    }\n",
       "\n",
       "    .dataframe thead th {\n",
       "        text-align: right;\n",
       "    }\n",
       "</style>\n",
       "<table border=\"1\" class=\"dataframe\">\n",
       "  <thead>\n",
       "    <tr style=\"text-align: right;\">\n",
       "      <th></th>\n",
       "      <th>id</th>\n",
       "      <th>name</th>\n",
       "      <th>release_date</th>\n",
       "      <th>total_tracks</th>\n",
       "    </tr>\n",
       "  </thead>\n",
       "  <tbody>\n",
       "    <tr>\n",
       "      <th>0</th>\n",
       "      <td>3jeQDa9OFZ6GndLindHx3k</td>\n",
       "      <td>Take Two</td>\n",
       "      <td>2023-06-09</td>\n",
       "      <td>1</td>\n",
       "    </tr>\n",
       "    <tr>\n",
       "      <th>1</th>\n",
       "      <td>66OYt73mqan1hWa78BhfPd</td>\n",
       "      <td>LALISA</td>\n",
       "      <td>2021-09-10</td>\n",
       "      <td>2</td>\n",
       "    </tr>\n",
       "    <tr>\n",
       "      <th>2</th>\n",
       "      <td>5Jk4Eg7pxYhDrWJCVVzmMt</td>\n",
       "      <td>CHARLIE</td>\n",
       "      <td>2022-10-06</td>\n",
       "      <td>12</td>\n",
       "    </tr>\n",
       "    <tr>\n",
       "      <th>3</th>\n",
       "      <td>4xc3Lc9yASZgEJGH7acWMB</td>\n",
       "      <td>FACE</td>\n",
       "      <td>2023-03-24</td>\n",
       "      <td>6</td>\n",
       "    </tr>\n",
       "    <tr>\n",
       "      <th>4</th>\n",
       "      <td>2H5nzViLpbX8JzY1cQMVza</td>\n",
       "      <td>Angel Pt. 1 (feat. Jimin of BTS, JVKE &amp; Muni L...</td>\n",
       "      <td>2023-05-18</td>\n",
       "      <td>2</td>\n",
       "    </tr>\n",
       "  </tbody>\n",
       "</table>\n",
       "</div>"
      ],
      "text/plain": [
       "                       id                                               name  \\\n",
       "0  3jeQDa9OFZ6GndLindHx3k                                           Take Two   \n",
       "1  66OYt73mqan1hWa78BhfPd                                             LALISA   \n",
       "2  5Jk4Eg7pxYhDrWJCVVzmMt                                            CHARLIE   \n",
       "3  4xc3Lc9yASZgEJGH7acWMB                                               FACE   \n",
       "4  2H5nzViLpbX8JzY1cQMVza  Angel Pt. 1 (feat. Jimin of BTS, JVKE & Muni L...   \n",
       "\n",
       "  release_date  total_tracks  \n",
       "0   2023-06-09             1  \n",
       "1   2021-09-10             2  \n",
       "2   2022-10-06            12  \n",
       "3   2023-03-24             6  \n",
       "4   2023-05-18             2  "
      ]
     },
     "execution_count": 11,
     "metadata": {},
     "output_type": "execute_result"
    }
   ],
   "source": [
    "# view album data as dataframe\n",
    "pd.DataFrame(album_list).head()"
   ]
  },
  {
   "cell_type": "code",
   "execution_count": 12,
   "metadata": {},
   "outputs": [
    {
     "data": {
      "text/html": [
       "<div>\n",
       "<style scoped>\n",
       "    .dataframe tbody tr th:only-of-type {\n",
       "        vertical-align: middle;\n",
       "    }\n",
       "\n",
       "    .dataframe tbody tr th {\n",
       "        vertical-align: top;\n",
       "    }\n",
       "\n",
       "    .dataframe thead th {\n",
       "        text-align: right;\n",
       "    }\n",
       "</style>\n",
       "<table border=\"1\" class=\"dataframe\">\n",
       "  <thead>\n",
       "    <tr style=\"text-align: right;\">\n",
       "      <th></th>\n",
       "      <th>artist_id</th>\n",
       "      <th>artist_name</th>\n",
       "    </tr>\n",
       "  </thead>\n",
       "  <tbody>\n",
       "    <tr>\n",
       "      <th>0</th>\n",
       "      <td>3Nrfpe0tUJi4K4DXYWgMUX</td>\n",
       "      <td>BTS</td>\n",
       "    </tr>\n",
       "    <tr>\n",
       "      <th>1</th>\n",
       "      <td>5L1lO4eRHmJ7a0Q6csE5cT</td>\n",
       "      <td>LISA</td>\n",
       "    </tr>\n",
       "    <tr>\n",
       "      <th>2</th>\n",
       "      <td>6VuMaDnrHyPL1p4EHjYLi7</td>\n",
       "      <td>Charlie Puth</td>\n",
       "    </tr>\n",
       "    <tr>\n",
       "      <th>3</th>\n",
       "      <td>6HaGTQPmzraVmaVxvz6EUc</td>\n",
       "      <td>Jung Kook</td>\n",
       "    </tr>\n",
       "    <tr>\n",
       "      <th>4</th>\n",
       "      <td>1oSPZhvZMIrWW5I41kPkkY</td>\n",
       "      <td>Jimin</td>\n",
       "    </tr>\n",
       "  </tbody>\n",
       "</table>\n",
       "</div>"
      ],
      "text/plain": [
       "                artist_id   artist_name\n",
       "0  3Nrfpe0tUJi4K4DXYWgMUX           BTS\n",
       "1  5L1lO4eRHmJ7a0Q6csE5cT          LISA\n",
       "2  6VuMaDnrHyPL1p4EHjYLi7  Charlie Puth\n",
       "3  6HaGTQPmzraVmaVxvz6EUc     Jung Kook\n",
       "4  1oSPZhvZMIrWW5I41kPkkY         Jimin"
      ]
     },
     "execution_count": 12,
     "metadata": {},
     "output_type": "execute_result"
    }
   ],
   "source": [
    "# view artist data as dataframe\n",
    "pd.DataFrame(artist_list).head()"
   ]
  },
  {
   "cell_type": "code",
   "execution_count": 13,
   "metadata": {},
   "outputs": [
    {
     "data": {
      "text/html": [
       "<div>\n",
       "<style scoped>\n",
       "    .dataframe tbody tr th:only-of-type {\n",
       "        vertical-align: middle;\n",
       "    }\n",
       "\n",
       "    .dataframe tbody tr th {\n",
       "        vertical-align: top;\n",
       "    }\n",
       "\n",
       "    .dataframe thead th {\n",
       "        text-align: right;\n",
       "    }\n",
       "</style>\n",
       "<table border=\"1\" class=\"dataframe\">\n",
       "  <thead>\n",
       "    <tr style=\"text-align: right;\">\n",
       "      <th></th>\n",
       "      <th>track_id</th>\n",
       "      <th>track_name</th>\n",
       "      <th>duration</th>\n",
       "      <th>popularity</th>\n",
       "      <th>album_id</th>\n",
       "      <th>artist_id</th>\n",
       "    </tr>\n",
       "  </thead>\n",
       "  <tbody>\n",
       "    <tr>\n",
       "      <th>0</th>\n",
       "      <td>5IAESfJjmOYu7cHyX557kz</td>\n",
       "      <td>Take Two</td>\n",
       "      <td>3.83</td>\n",
       "      <td>93</td>\n",
       "      <td>3jeQDa9OFZ6GndLindHx3k</td>\n",
       "      <td>3Nrfpe0tUJi4K4DXYWgMUX</td>\n",
       "    </tr>\n",
       "    <tr>\n",
       "      <th>1</th>\n",
       "      <td>7hU3IHwjX150XLoTVmjD0q</td>\n",
       "      <td>MONEY</td>\n",
       "      <td>2.80</td>\n",
       "      <td>82</td>\n",
       "      <td>66OYt73mqan1hWa78BhfPd</td>\n",
       "      <td>5L1lO4eRHmJ7a0Q6csE5cT</td>\n",
       "    </tr>\n",
       "    <tr>\n",
       "      <th>2</th>\n",
       "      <td>5Odq8ohlgIbQKMZivbWkEo</td>\n",
       "      <td>Left and Right (Feat. Jung Kook of BTS)</td>\n",
       "      <td>2.57</td>\n",
       "      <td>86</td>\n",
       "      <td>5Jk4Eg7pxYhDrWJCVVzmMt</td>\n",
       "      <td>6VuMaDnrHyPL1p4EHjYLi7</td>\n",
       "    </tr>\n",
       "    <tr>\n",
       "      <th>3</th>\n",
       "      <td>3Ua0m0YmEjrMi9XErKcNiR</td>\n",
       "      <td>Like Crazy</td>\n",
       "      <td>3.54</td>\n",
       "      <td>94</td>\n",
       "      <td>4xc3Lc9yASZgEJGH7acWMB</td>\n",
       "      <td>1oSPZhvZMIrWW5I41kPkkY</td>\n",
       "    </tr>\n",
       "    <tr>\n",
       "      <th>4</th>\n",
       "      <td>2yjeXq5ahx6UUg2rHaUe6X</td>\n",
       "      <td>Angel Pt. 2 (feat. Jimin of BTS, Charlie Puth ...</td>\n",
       "      <td>2.94</td>\n",
       "      <td>68</td>\n",
       "      <td>2H5nzViLpbX8JzY1cQMVza</td>\n",
       "      <td>164Uj4eKjl6zTBKfJLFKKK</td>\n",
       "    </tr>\n",
       "  </tbody>\n",
       "</table>\n",
       "</div>"
      ],
      "text/plain": [
       "                 track_id                                         track_name  \\\n",
       "0  5IAESfJjmOYu7cHyX557kz                                           Take Two   \n",
       "1  7hU3IHwjX150XLoTVmjD0q                                              MONEY   \n",
       "2  5Odq8ohlgIbQKMZivbWkEo            Left and Right (Feat. Jung Kook of BTS)   \n",
       "3  3Ua0m0YmEjrMi9XErKcNiR                                         Like Crazy   \n",
       "4  2yjeXq5ahx6UUg2rHaUe6X  Angel Pt. 2 (feat. Jimin of BTS, Charlie Puth ...   \n",
       "\n",
       "   duration  popularity                album_id               artist_id  \n",
       "0      3.83          93  3jeQDa9OFZ6GndLindHx3k  3Nrfpe0tUJi4K4DXYWgMUX  \n",
       "1      2.80          82  66OYt73mqan1hWa78BhfPd  5L1lO4eRHmJ7a0Q6csE5cT  \n",
       "2      2.57          86  5Jk4Eg7pxYhDrWJCVVzmMt  6VuMaDnrHyPL1p4EHjYLi7  \n",
       "3      3.54          94  4xc3Lc9yASZgEJGH7acWMB  1oSPZhvZMIrWW5I41kPkkY  \n",
       "4      2.94          68  2H5nzViLpbX8JzY1cQMVza  164Uj4eKjl6zTBKfJLFKKK  "
      ]
     },
     "execution_count": 13,
     "metadata": {},
     "output_type": "execute_result"
    }
   ],
   "source": [
    "# view track as dataframe\n",
    "pd.DataFrame(track_list).head()"
   ]
  }
 ],
 "metadata": {
  "kernelspec": {
   "display_name": "Python 3",
   "language": "python",
   "name": "python3"
  },
  "language_info": {
   "codemirror_mode": {
    "name": "ipython",
    "version": 3
   },
   "file_extension": ".py",
   "mimetype": "text/x-python",
   "name": "python",
   "nbconvert_exporter": "python",
   "pygments_lexer": "ipython3",
   "version": "3.10.5"
  },
  "orig_nbformat": 4
 },
 "nbformat": 4,
 "nbformat_minor": 2
}
